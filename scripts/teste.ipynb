{
 "cells": [
  {
   "cell_type": "code",
   "execution_count": 18,
   "metadata": {},
   "outputs": [],
   "source": [
    "import matplotlib.pyplot as plt\n",
    "import numpy as np\n",
    "import pandas as pd\n",
    "import statsmodels.api as sm\n",
    "from scipy import stats\n",
    "from statsmodels.tsa.arima.model import ARIMA\n",
    "from statsmodels.graphics.api import qqplot"
   ]
  },
  {
   "cell_type": "code",
   "execution_count": 8,
   "metadata": {},
   "outputs": [],
   "source": [
    "def preprocess(df, agrupamento):\n",
    "    df2 = df.copy()\n",
    "    df2['DATA'] = df2['DATA'].astype(str)\n",
    "    if agrupamento == 'Anual':\n",
    "        df2[agrupamento] = df2['DATA'].apply(lambda x: x[:4])\n",
    "    elif agrupamento == 'Mensal':\n",
    "        df2[agrupamento] = df2['DATA'].apply(lambda x: x[:7])\n",
    "    else:\n",
    "        df2[agrupamento] = df2['DATA']\n",
    "        \n",
    "    \n",
    "    df2 = df2.groupby([agrupamento]).count().reset_index().rename(columns={'ID': 'Casos'})\n",
    "    return df2"
   ]
  },
  {
   "cell_type": "code",
   "execution_count": 3,
   "metadata": {},
   "outputs": [],
   "source": [
    "df = pd.read_csv('../assets/Dados/SINAN-ZIKA.csv')"
   ]
  },
  {
   "cell_type": "code",
   "execution_count": 9,
   "metadata": {},
   "outputs": [],
   "source": [
    "df = preprocess(df, 'Mensal')"
   ]
  },
  {
   "cell_type": "code",
   "execution_count": 12,
   "metadata": {},
   "outputs": [
    {
     "data": {
      "text/html": [
       "<div>\n",
       "<style scoped>\n",
       "    .dataframe tbody tr th:only-of-type {\n",
       "        vertical-align: middle;\n",
       "    }\n",
       "\n",
       "    .dataframe tbody tr th {\n",
       "        vertical-align: top;\n",
       "    }\n",
       "\n",
       "    .dataframe thead th {\n",
       "        text-align: right;\n",
       "    }\n",
       "</style>\n",
       "<table border=\"1\" class=\"dataframe\">\n",
       "  <thead>\n",
       "    <tr style=\"text-align: right;\">\n",
       "      <th></th>\n",
       "      <th>Mensal</th>\n",
       "      <th>Casos</th>\n",
       "      <th>DATA</th>\n",
       "      <th>ID_AGRAVO</th>\n",
       "      <th>SEXO</th>\n",
       "      <th>ID_MUNICIP</th>\n",
       "    </tr>\n",
       "  </thead>\n",
       "  <tbody>\n",
       "    <tr>\n",
       "      <th>0</th>\n",
       "      <td>2016-01</td>\n",
       "      <td>37260</td>\n",
       "      <td>37260</td>\n",
       "      <td>37260</td>\n",
       "      <td>37260</td>\n",
       "      <td>37260</td>\n",
       "    </tr>\n",
       "    <tr>\n",
       "      <th>1</th>\n",
       "      <td>2016-02</td>\n",
       "      <td>71565</td>\n",
       "      <td>71565</td>\n",
       "      <td>71565</td>\n",
       "      <td>71565</td>\n",
       "      <td>71565</td>\n",
       "    </tr>\n",
       "    <tr>\n",
       "      <th>2</th>\n",
       "      <td>2016-03</td>\n",
       "      <td>77624</td>\n",
       "      <td>77624</td>\n",
       "      <td>77624</td>\n",
       "      <td>77624</td>\n",
       "      <td>77624</td>\n",
       "    </tr>\n",
       "  </tbody>\n",
       "</table>\n",
       "</div>"
      ],
      "text/plain": [
       "    Mensal  Casos   DATA  ID_AGRAVO   SEXO  ID_MUNICIP\n",
       "0  2016-01  37260  37260      37260  37260       37260\n",
       "1  2016-02  71565  71565      71565  71565       71565\n",
       "2  2016-03  77624  77624      77624  77624       77624"
      ]
     },
     "execution_count": 12,
     "metadata": {},
     "output_type": "execute_result"
    }
   ],
   "source": [
    "df.head(3)"
   ]
  },
  {
   "cell_type": "code",
   "execution_count": 15,
   "metadata": {},
   "outputs": [],
   "source": [
    "df = df[['Casos','Mensal']]\n",
    "df.index.freq = df['Mensal']\n",
    "del df['Mensal']\n",
    "arma_mod20 = ARIMA(df, order=(2, 0, 0)).fit()"
   ]
  },
  {
   "cell_type": "code",
   "execution_count": 17,
   "metadata": {},
   "outputs": [],
   "source": [
    "resid = arma_mod20.resid"
   ]
  },
  {
   "cell_type": "code",
   "execution_count": 16,
   "metadata": {},
   "outputs": [
    {
     "name": "stdout",
     "output_type": "stream",
     "text": [
      "const     5.179462e+03\n",
      "ar.L1     1.632725e+00\n",
      "ar.L2    -9.556052e-01\n",
      "sigma2    1.575885e+07\n",
      "dtype: float64\n"
     ]
    }
   ],
   "source": [
    "print(arma_mod20.params)"
   ]
  },
  {
   "cell_type": "code",
   "execution_count": 28,
   "metadata": {},
   "outputs": [
    {
     "data": {
      "image/png": "[encoded data removed]",
      "text/plain": [
       "<Figure size 864x576 with 1 Axes>"
      ]
     },
     "metadata": {
      "needs_background": "light"
     },
     "output_type": "display_data"
    },
    {
     "data": {
      "image/png": "[encoded data removed]",
      "text/plain": [
       "<Figure size 432x288 with 1 Axes>"
      ]
     },
     "metadata": {
      "needs_background": "light"
     },
     "output_type": "display_data"
    }
   ],
   "source": [
    "fig = plt.figure(figsize=(12, 8))\n",
    "ax = fig.add_subplot(111)\n",
    "fig = qqplot(resid, line=\"q\", ax=ax, fit=True)\n",
    "qqplot_data = qqplot(resid, line='q').gca().lines"
   ]
  },
  {
   "cell_type": "code",
   "execution_count": 29,
   "metadata": {},
   "outputs": [
    {
     "data": {
      "application/vnd.plotly.v1+json": {
       "config": {
        "plotlyServerURL": "https://plot.ly"
       },
       "data": [
        {
         "marker": {
          "color": "#19d3f3"
         },
         "mode": "markers",
         "type": "scatter",
         "x": [
          -2.264727419744185,
          -1.9857704031810952,
          -1.808117370057171,
          -1.6740659078405433,
          -1.5647264713617988,
          -1.4714240601722341,
          -1.3894173338410671,
          -1.315817529815394,
          -1.248727645235736,
          -1.1868314327558185,
          -1.1291761577077981,
          -1.0750486645349846,
          -1.023900332980639,
          -0.9752994066934372,
          -0.9288994916472707,
          -0.8844180398275973,
          -0.8416212335729142,
          -0.8003131056487288,
          -0.7603275406361331,
          -0.7215222839823433,
          -0.6837743798792987,
          -0.6469766452839717,
          -0.6110349080044066,
          -0.5758658167443257,
          -0.5413950851290877,
          -0.5075560690656842,
          -0.47428860297245296,
          -0.4415380390635178,
          -0.40925444734403177,
          -0.37739194382855384,
          -0.34590812179133795,
          -0.3147635663168,
          -0.28392143654317287,
          -0.2533471031357997,
          -0.2230078309403668,
          -0.19287249863176734,
          -0.162911348622918,
          -0.13309576162614312,
          -0.10339805113889408,
          -0.07379127380827269,
          -0.04424905215419239,
          -0.014745406527902915,
          0.014745406527902915,
          0.04424905215419253,
          0.07379127380827269,
          0.10339805113889394,
          0.13309576162614326,
          0.162911348622918,
          0.1928724986317672,
          0.2230078309403668,
          0.2533471031357997,
          0.283921436543173,
          0.3147635663168,
          0.34590812179133773,
          0.37739194382855396,
          0.40925444734403177,
          0.4415380390635177,
          0.47428860297245296,
          0.5075560690656842,
          0.541395085129088,
          0.5758658167443257,
          0.6110349080044065,
          0.6469766452839718,
          0.6837743798792987,
          0.7215222839823432,
          0.7603275406361331,
          0.8003131056487288,
          0.8416212335729143,
          0.8844180398275973,
          0.9288994916472707,
          0.9752994066934372,
          1.023900332980639,
          1.0750486645349844,
          1.1291761577077981,
          1.1868314327558185,
          1.2487276452357365,
          1.315817529815394,
          1.3894173338410671,
          1.4714240601722341,
          1.5647264713617985,
          1.6740659078405429,
          1.8081173700571718,
          1.9857704031810945,
          2.264727419744186
         ],
         "y": [
          -15132.101845213372,
          -5288.4571482465835,
          -5039.017347860681,
          -2402.2294226971353,
          -2279.676955512954,
          -1823.9745520666875,
          -1816.2349862495066,
          -1793.8454615287137,
          -1714.5634689680546,
          -1566.0332869204221,
          -1552.5849294065679,
          -1482.2169750701469,
          -1479.4902032564805,
          -1479.1771563822635,
          -1473.6083670014673,
          -1464.1118848282404,
          -1449.8780331760508,
          -1434.2125856709326,
          -1430.2266235974025,
          -1426.4512726449666,
          -1414.411056327659,
          -1392.0186187727945,
          -1372.2100133965037,
          -1355.0433748110809,
          -1342.1881243671082,
          -1304.9234016352339,
          -1275.6793957739483,
          -1267.83878823212,
          -1251.593557134136,
          -1224.969698060182,
          -1224.5692556941485,
          -1199.1733524616766,
          -1161.0841721935003,
          -1144.50751787825,
          -1120.4029355843918,
          -1077.501658678123,
          -1068.025255190138,
          -1056.1729012626906,
          -1041.929089557566,
          -1040.1043390124837,
          -1034.1837637151916,
          -1031.605156372335,
          -1002.19608600847,
          -974.3690048943872,
          -917.2980974312673,
          -881.3711242946042,
          -861.9014520862879,
          -854.0124814780647,
          -826.2625985762097,
          -810.5595364169462,
          -805.5284250336076,
          -783.0912425789897,
          -781.1895728964323,
          -768.9233925883932,
          -761.1560635770584,
          -716.6818333291144,
          -705.5237650627641,
          -673.6588311057294,
          -631.2074019261636,
          -582.8323593303835,
          -574.8320236743302,
          -539.9390048175164,
          -535.8214042637724,
          -522.1646390195306,
          -410.83115164524224,
          -338.0021269231597,
          -289.9964381379855,
          -199.27535720634478,
          -106.74060269657502,
          -12.296031804020458,
          359.21877312629385,
          370.6781089238393,
          483.1110003433814,
          562.5530048288456,
          596.6723803501764,
          597.8509301406939,
          619.0444925098741,
          2644.4411287575585,
          3601.630771507077,
          8588.643748266013,
          13900.234564974155,
          22235.895399799385,
          32080.538274047638,
          39601.65804630844
         ]
        },
        {
         "line": {
          "color": "#636efa"
         },
         "mode": "lines",
         "type": "scatter",
         "x": [
          -2.264727419744185,
          -1.9857704031810952,
          -1.808117370057171,
          -1.6740659078405433,
          -1.5647264713617988,
          -1.4714240601722341,
          -1.3894173338410671,
          -1.315817529815394,
          -1.248727645235736,
          -1.1868314327558185,
          -1.1291761577077981,
          -1.0750486645349846,
          -1.023900332980639,
          -0.9752994066934372,
          -0.9288994916472707,
          -0.8844180398275973,
          -0.8416212335729142,
          -0.8003131056487288,
          -0.7603275406361331,
          -0.7215222839823433,
          -0.6837743798792987,
          -0.6469766452839717,
          -0.6110349080044066,
          -0.5758658167443257,
          -0.5413950851290877,
          -0.5075560690656842,
          -0.47428860297245296,
          -0.4415380390635178,
          -0.40925444734403177,
          -0.37739194382855384,
          -0.34590812179133795,
          -0.3147635663168,
          -0.28392143654317287,
          -0.2533471031357997,
          -0.2230078309403668,
          -0.19287249863176734,
          -0.162911348622918,
          -0.13309576162614312,
          -0.10339805113889408,
          -0.07379127380827269,
          -0.04424905215419239,
          -0.014745406527902915,
          0.014745406527902915,
          0.04424905215419253,
          0.07379127380827269,
          0.10339805113889394,
          0.13309576162614326,
          0.162911348622918,
          0.1928724986317672,
          0.2230078309403668,
          0.2533471031357997,
          0.283921436543173,
          0.3147635663168,
          0.34590812179133773,
          0.37739194382855396,
          0.40925444734403177,
          0.4415380390635177,
          0.47428860297245296,
          0.5075560690656842,
          0.541395085129088,
          0.5758658167443257,
          0.6110349080044065,
          0.6469766452839718,
          0.6837743798792987,
          0.7215222839823432,
          0.7603275406361331,
          0.8003131056487288,
          0.8416212335729143,
          0.8844180398275973,
          0.9288994916472707,
          0.9752994066934372,
          1.023900332980639,
          1.0750486645349844,
          1.1291761577077981,
          1.1868314327558185,
          1.2487276452357365,
          1.315817529815394,
          1.3894173338410671,
          1.4714240601722341,
          1.5647264713617985,
          1.6740659078405429,
          1.8081173700571718,
          1.9857704031810945,
          2.264727419744186
         ],
         "y": [
          -2417.564594483051,
          -2238.6469274655174,
          -2124.7036876906814,
          -2038.7256571840935,
          -1968.5974448565703,
          -1908.7550722114208,
          -1856.1575346563855,
          -1808.9520354312283,
          -1765.9218733748698,
          -1726.2228327464231,
          -1689.2438478478196,
          -1654.5275144165828,
          -1621.7219579681646,
          -1590.550258280049,
          -1560.7902448838838,
          -1532.26069691559,
          -1504.8116482226078,
          -1478.3174091885253,
          -1452.6714365774956,
          -1427.7824910544405,
          -1403.571711128097,
          -1379.9703516554368,
          -1356.9180124031545,
          -1334.3612334523827,
          -1312.252368950704,
          -1290.5486746582046,
          -1269.2115615275884,
          -1248.2059795196876,
          -1227.4999044957935,
          -1207.0639073498392,
          -1186.8707892232696,
          -1166.8952701470457,
          -1147.1137211007563,
          -1127.5039314949577,
          -1108.0449056310604,
          -1088.7166828894995,
          -1069.5001773260578,
          -1050.3770330798732,
          -1031.3294925605294,
          -1012.3402748195074,
          -993.3924618482301,
          -974.4693907994906,
          -955.5545503147321,
          -936.6314792659924,
          -917.6836662947153,
          -898.6944485536934,
          -879.6469080343494,
          -860.5237637881648,
          -841.3072582247233,
          -821.9790354831623,
          -802.520009619265,
          -782.9102200134664,
          -763.128670967177,
          -743.1531518909533,
          -722.9600337643835,
          -702.5240366184291,
          -681.8179615945352,
          -660.8123795866343,
          -639.4752664560181,
          -617.7715721635186,
          -595.6627076618399,
          -573.1059287110681,
          -550.0535894587857,
          -526.4522299861256,
          -502.2414500597822,
          -477.35250453672717,
          -451.7065319256975,
          -425.21229289161477,
          -397.7632441986327,
          -369.23369623033886,
          -339.4736828341736,
          -308.3019831460581,
          -275.49642669764,
          -240.78009326640313,
          -203.80110836779943,
          -164.10206773935238,
          -121.07190568299438,
          -73.86640645783712,
          -21.26886890280184,
          38.573503742347384,
          108.70171606987049,
          194.67974657645902,
          308.62298635129457,
          487.5406533688289
         ]
        }
       ],
       "layout": {
        "height": 700,
        "showlegend": false,
        "template": {
         "data": {
          "bar": [
           {
            "error_x": {
             "color": "#2a3f5f"
            },
            "error_y": {
             "color": "#2a3f5f"
            },
            "marker": {
             "line": {
              "color": "#E5ECF6",
              "width": 0.5
             },
             "pattern": {
              "fillmode": "overlay",
              "size": 10,
              "solidity": 0.2
             }
            },
            "type": "bar"
           }
          ],
          "barpolar": [
           {
            "marker": {
             "line": {
              "color": "#E5ECF6",
              "width": 0.5
             },
             "pattern": {
              "fillmode": "overlay",
              "size": 10,
              "solidity": 0.2
             }
            },
            "type": "barpolar"
           }
          ],
          "carpet": [
           {
            "aaxis": {
             "endlinecolor": "#2a3f5f",
             "gridcolor": "white",
             "linecolor": "white",
             "minorgridcolor": "white",
             "startlinecolor": "#2a3f5f"
            },
            "baxis": {
             "endlinecolor": "#2a3f5f",
             "gridcolor": "white",
             "linecolor": "white",
             "minorgridcolor": "white",
             "startlinecolor": "#2a3f5f"
            },
            "type": "carpet"
           }
          ],
          "choropleth": [
           {
            "colorbar": {
             "outlinewidth": 0,
             "ticks": ""
            },
            "type": "choropleth"
           }
          ],
          "contour": [
           {
            "colorbar": {
             "outlinewidth": 0,
             "ticks": ""
            },
            "colorscale": [
             [
              0,
              "#0d0887"
             ],
             [
              0.1111111111111111,
              "#46039f"
             ],
             [
              0.2222222222222222,
              "#7201a8"
             ],
             [
              0.3333333333333333,
              "#9c179e"
             ],
             [
              0.4444444444444444,
              "#bd3786"
             ],
             [
              0.5555555555555556,
              "#d8576b"
             ],
             [
              0.6666666666666666,
              "#ed7953"
             ],
             [
              0.7777777777777778,
              "#fb9f3a"
             ],
             [
              0.8888888888888888,
              "#fdca26"
             ],
             [
              1,
              "#f0f921"
             ]
            ],
            "type": "contour"
           }
          ],
          "contourcarpet": [
           {
            "colorbar": {
             "outlinewidth": 0,
             "ticks": ""
            },
            "type": "contourcarpet"
           }
          ],
          "heatmap": [
           {
            "colorbar": {
             "outlinewidth": 0,
             "ticks": ""
            },
            "colorscale": [
             [
              0,
              "#0d0887"
             ],
             [
              0.1111111111111111,
              "#46039f"
             ],
             [
              0.2222222222222222,
              "#7201a8"
             ],
             [
              0.3333333333333333,
              "#9c179e"
             ],
             [
              0.4444444444444444,
              "#bd3786"
             ],
             [
              0.5555555555555556,
              "#d8576b"
             ],
             [
              0.6666666666666666,
              "#ed7953"
             ],
             [
              0.7777777777777778,
              "#fb9f3a"
             ],
             [
              0.8888888888888888,
              "#fdca26"
             ],
             [
              1,
              "#f0f921"
             ]
            ],
            "type": "heatmap"
           }
          ],
          "heatmapgl": [
           {
            "colorbar": {
             "outlinewidth": 0,
             "ticks": ""
            },
            "colorscale": [
             [
              0,
              "#0d0887"
             ],
             [
              0.1111111111111111,
              "#46039f"
             ],
             [
              0.2222222222222222,
              "#7201a8"
             ],
             [
              0.3333333333333333,
              "#9c179e"
             ],
             [
              0.4444444444444444,
              "#bd3786"
             ],
             [
              0.5555555555555556,
              "#d8576b"
             ],
             [
              0.6666666666666666,
              "#ed7953"
             ],
             [
              0.7777777777777778,
              "#fb9f3a"
             ],
             [
              0.8888888888888888,
              "#fdca26"
             ],
             [
              1,
              "#f0f921"
             ]
            ],
            "type": "heatmapgl"
           }
          ],
          "histogram": [
           {
            "marker": {
             "pattern": {
              "fillmode": "overlay",
              "size": 10,
              "solidity": 0.2
             }
            },
            "type": "histogram"
           }
          ],
          "histogram2d": [
           {
            "colorbar": {
             "outlinewidth": 0,
             "ticks": ""
            },
            "colorscale": [
             [
              0,
              "#0d0887"
             ],
             [
              0.1111111111111111,
              "#46039f"
             ],
             [
              0.2222222222222222,
              "#7201a8"
             ],
             [
              0.3333333333333333,
              "#9c179e"
             ],
             [
              0.4444444444444444,
              "#bd3786"
             ],
             [
              0.5555555555555556,
              "#d8576b"
             ],
             [
              0.6666666666666666,
              "#ed7953"
             ],
             [
              0.7777777777777778,
              "#fb9f3a"
             ],
             [
              0.8888888888888888,
              "#fdca26"
             ],
             [
              1,
              "#f0f921"
             ]
            ],
            "type": "histogram2d"
           }
          ],
          "histogram2dcontour": [
           {
            "colorbar": {
             "outlinewidth": 0,
             "ticks": ""
            },
            "colorscale": [
             [
              0,
              "#0d0887"
             ],
             [
              0.1111111111111111,
              "#46039f"
             ],
             [
              0.2222222222222222,
              "#7201a8"
             ],
             [
              0.3333333333333333,
              "#9c179e"
             ],
             [
              0.4444444444444444,
              "#bd3786"
             ],
             [
              0.5555555555555556,
              "#d8576b"
             ],
             [
              0.6666666666666666,
              "#ed7953"
             ],
             [
              0.7777777777777778,
              "#fb9f3a"
             ],
             [
              0.8888888888888888,
              "#fdca26"
             ],
             [
              1,
              "#f0f921"
             ]
            ],
            "type": "histogram2dcontour"
           }
          ],
          "mesh3d": [
           {
            "colorbar": {
             "outlinewidth": 0,
             "ticks": ""
            },
            "type": "mesh3d"
           }
          ],
          "parcoords": [
           {
            "line": {
             "colorbar": {
              "outlinewidth": 0,
              "ticks": ""
             }
            },
            "type": "parcoords"
           }
          ],
          "pie": [
           {
            "automargin": true,
            "type": "pie"
           }
          ],
          "scatter": [
           {
            "fillpattern": {
             "fillmode": "overlay",
             "size": 10,
             "solidity": 0.2
            },
            "type": "scatter"
           }
          ],
          "scatter3d": [
           {
            "line": {
             "colorbar": {
              "outlinewidth": 0,
              "ticks": ""
             }
            },
            "marker": {
             "colorbar": {
              "outlinewidth": 0,
              "ticks": ""
             }
            },
            "type": "scatter3d"
           }
          ],
          "scattercarpet": [
           {
            "marker": {
             "colorbar": {
              "outlinewidth": 0,
              "ticks": ""
             }
            },
            "type": "scattercarpet"
           }
          ],
          "scattergeo": [
           {
            "marker": {
             "colorbar": {
              "outlinewidth": 0,
              "ticks": ""
             }
            },
            "type": "scattergeo"
           }
          ],
          "scattergl": [
           {
            "marker": {
             "colorbar": {
              "outlinewidth": 0,
              "ticks": ""
             }
            },
            "type": "scattergl"
           }
          ],
          "scattermapbox": [
           {
            "marker": {
             "colorbar": {
              "outlinewidth": 0,
              "ticks": ""
             }
            },
            "type": "scattermapbox"
           }
          ],
          "scatterpolar": [
           {
            "marker": {
             "colorbar": {
              "outlinewidth": 0,
              "ticks": ""
             }
            },
            "type": "scatterpolar"
           }
          ],
          "scatterpolargl": [
           {
            "marker": {
             "colorbar": {
              "outlinewidth": 0,
              "ticks": ""
             }
            },
            "type": "scatterpolargl"
           }
          ],
          "scatterternary": [
           {
            "marker": {
             "colorbar": {
              "outlinewidth": 0,
              "ticks": ""
             }
            },
            "type": "scatterternary"
           }
          ],
          "surface": [
           {
            "colorbar": {
             "outlinewidth": 0,
             "ticks": ""
            },
            "colorscale": [
             [
              0,
              "#0d0887"
             ],
             [
              0.1111111111111111,
              "#46039f"
             ],
             [
              0.2222222222222222,
              "#7201a8"
             ],
             [
              0.3333333333333333,
              "#9c179e"
             ],
             [
              0.4444444444444444,
              "#bd3786"
             ],
             [
              0.5555555555555556,
              "#d8576b"
             ],
             [
              0.6666666666666666,
              "#ed7953"
             ],
             [
              0.7777777777777778,
              "#fb9f3a"
             ],
             [
              0.8888888888888888,
              "#fdca26"
             ],
             [
              1,
              "#f0f921"
             ]
            ],
            "type": "surface"
           }
          ],
          "table": [
           {
            "cells": {
             "fill": {
              "color": "#EBF0F8"
             },
             "line": {
              "color": "white"
             }
            },
            "header": {
             "fill": {
              "color": "#C8D4E3"
             },
             "line": {
              "color": "white"
             }
            },
            "type": "table"
           }
          ]
         },
         "layout": {
          "annotationdefaults": {
           "arrowcolor": "#2a3f5f",
           "arrowhead": 0,
           "arrowwidth": 1
          },
          "autotypenumbers": "strict",
          "coloraxis": {
           "colorbar": {
            "outlinewidth": 0,
            "ticks": ""
           }
          },
          "colorscale": {
           "diverging": [
            [
             0,
             "#8e0152"
            ],
            [
             0.1,
             "#c51b7d"
            ],
            [
             0.2,
             "#de77ae"
            ],
            [
             0.3,
             "#f1b6da"
            ],
            [
             0.4,
             "#fde0ef"
            ],
            [
             0.5,
             "#f7f7f7"
            ],
            [
             0.6,
             "#e6f5d0"
            ],
            [
             0.7,
             "#b8e186"
            ],
            [
             0.8,
             "#7fbc41"
            ],
            [
             0.9,
             "#4d9221"
            ],
            [
             1,
             "#276419"
            ]
           ],
           "sequential": [
            [
             0,
             "#0d0887"
            ],
            [
             0.1111111111111111,
             "#46039f"
            ],
            [
             0.2222222222222222,
             "#7201a8"
            ],
            [
             0.3333333333333333,
             "#9c179e"
            ],
            [
             0.4444444444444444,
             "#bd3786"
            ],
            [
             0.5555555555555556,
             "#d8576b"
            ],
            [
             0.6666666666666666,
             "#ed7953"
            ],
            [
             0.7777777777777778,
             "#fb9f3a"
            ],
            [
             0.8888888888888888,
             "#fdca26"
            ],
            [
             1,
             "#f0f921"
            ]
           ],
           "sequentialminus": [
            [
             0,
             "#0d0887"
            ],
            [
             0.1111111111111111,
             "#46039f"
            ],
            [
             0.2222222222222222,
             "#7201a8"
            ],
            [
             0.3333333333333333,
             "#9c179e"
            ],
            [
             0.4444444444444444,
             "#bd3786"
            ],
            [
             0.5555555555555556,
             "#d8576b"
            ],
            [
             0.6666666666666666,
             "#ed7953"
            ],
            [
             0.7777777777777778,
             "#fb9f3a"
            ],
            [
             0.8888888888888888,
             "#fdca26"
            ],
            [
             1,
             "#f0f921"
            ]
           ]
          },
          "colorway": [
           "#636efa",
           "#EF553B",
           "#00cc96",
           "#ab63fa",
           "#FFA15A",
           "#19d3f3",
           "#FF6692",
           "#B6E880",
           "#FF97FF",
           "#FECB52"
          ],
          "font": {
           "color": "#2a3f5f"
          },
          "geo": {
           "bgcolor": "white",
           "lakecolor": "white",
           "landcolor": "#E5ECF6",
           "showlakes": true,
           "showland": true,
           "subunitcolor": "white"
          },
          "hoverlabel": {
           "align": "left"
          },
          "hovermode": "closest",
          "mapbox": {
           "style": "light"
          },
          "paper_bgcolor": "white",
          "plot_bgcolor": "#E5ECF6",
          "polar": {
           "angularaxis": {
            "gridcolor": "white",
            "linecolor": "white",
            "ticks": ""
           },
           "bgcolor": "#E5ECF6",
           "radialaxis": {
            "gridcolor": "white",
            "linecolor": "white",
            "ticks": ""
           }
          },
          "scene": {
           "xaxis": {
            "backgroundcolor": "#E5ECF6",
            "gridcolor": "white",
            "gridwidth": 2,
            "linecolor": "white",
            "showbackground": true,
            "ticks": "",
            "zerolinecolor": "white"
           },
           "yaxis": {
            "backgroundcolor": "#E5ECF6",
            "gridcolor": "white",
            "gridwidth": 2,
            "linecolor": "white",
            "showbackground": true,
            "ticks": "",
            "zerolinecolor": "white"
           },
           "zaxis": {
            "backgroundcolor": "#E5ECF6",
            "gridcolor": "white",
            "gridwidth": 2,
            "linecolor": "white",
            "showbackground": true,
            "ticks": "",
            "zerolinecolor": "white"
           }
          },
          "shapedefaults": {
           "line": {
            "color": "#2a3f5f"
           }
          },
          "ternary": {
           "aaxis": {
            "gridcolor": "white",
            "linecolor": "white",
            "ticks": ""
           },
           "baxis": {
            "gridcolor": "white",
            "linecolor": "white",
            "ticks": ""
           },
           "bgcolor": "#E5ECF6",
           "caxis": {
            "gridcolor": "white",
            "linecolor": "white",
            "ticks": ""
           }
          },
          "title": {
           "x": 0.05
          },
          "xaxis": {
           "automargin": true,
           "gridcolor": "white",
           "linecolor": "white",
           "ticks": "",
           "title": {
            "standoff": 15
           },
           "zerolinecolor": "white",
           "zerolinewidth": 2
          },
          "yaxis": {
           "automargin": true,
           "gridcolor": "white",
           "linecolor": "white",
           "ticks": "",
           "title": {
            "standoff": 15
           },
           "zerolinecolor": "white",
           "zerolinewidth": 2
          }
         }
        },
        "title": {
         "text": "Gráfico de resíduos"
        },
        "width": 800,
        "xaxis": {
         "title": {
          "text": "Quantis Teóricos"
         },
         "zeroline": false
        },
        "yaxis": {
         "title": {
          "text": "Quantis da amostra"
         }
        }
       }
      }
     },
     "metadata": {},
     "output_type": "display_data"
    }
   ],
   "source": [
    "\n",
    "import plotly.graph_objs as go\n",
    "fig = go.Figure()\n",
    "\n",
    "fig.add_trace({\n",
    "    'type': 'scatter',\n",
    "    'x': qqplot_data[0].get_xdata(),\n",
    "    'y': qqplot_data[0].get_ydata(),\n",
    "    'mode': 'markers',\n",
    "    'marker': {\n",
    "        'color': '#19d3f3'\n",
    "    }\n",
    "})\n",
    "\n",
    "fig.add_trace({\n",
    "    'type': 'scatter',\n",
    "    'x': qqplot_data[1].get_xdata(),\n",
    "    'y': qqplot_data[1].get_ydata(),\n",
    "    'mode': 'lines',\n",
    "    'line': {\n",
    "        'color': '#636efa'\n",
    "    }\n",
    "\n",
    "})\n",
    "\n",
    "\n",
    "fig['layout'].update({\n",
    "    'title': 'Gráfico de resíduos',\n",
    "    'xaxis': {\n",
    "        'title': 'Quantis Teóricos',\n",
    "        'zeroline': False\n",
    "    },\n",
    "    'yaxis': {\n",
    "        'title': 'Quantis da amostra'\n",
    "    },\n",
    "    'showlegend': False,\n",
    "    'width': 800,\n",
    "    'height': 700,\n",
    "})\n",
    "\n",
    "fig.show()"
   ]
  }
 ],
 "metadata": {
  "kernelspec": {
   "display_name": "Python 3",
   "language": "python",
   "name": "python3"
  },
  "language_info": {
   "codemirror_mode": {
    "name": "ipython",
    "version": 3
   },
   "file_extension": ".py",
   "mimetype": "text/x-python",
   "name": "python",
   "nbconvert_exporter": "python",
   "pygments_lexer": "ipython3",
   "version": "3.10.11"
  }
 },
 "nbformat": 4,
 "nbformat_minor": 2
}
