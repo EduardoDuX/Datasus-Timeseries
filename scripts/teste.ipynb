{
 "cells": [
  {
   "cell_type": "code",
   "execution_count": 1,
   "metadata": {},
   "outputs": [],
   "source": [
    "import matplotlib.pyplot as plt\n",
    "import numpy as np\n",
    "import pandas as pd\n",
    "import statsmodels.api as sm\n",
    "from scipy import stats\n",
    "from statsmodels.tsa.arima.model import ARIMA\n",
    "from statsmodels.graphics.api import qqplot"
   ]
  },
  {
   "cell_type": "code",
   "execution_count": 2,
   "metadata": {},
   "outputs": [],
   "source": [
    "def preprocess(df, agrupamento):\n",
    "    df2 = df.copy()\n",
    "    df2['DATA'] = df2['DATA'].astype(str)\n",
    "    if agrupamento == 'Anual':\n",
    "        df2[agrupamento] = df2['DATA'].apply(lambda x: x[:4])\n",
    "    elif agrupamento == 'Mensal':\n",
    "        df2[agrupamento] = df2['DATA'].apply(lambda x: x[:7])\n",
    "    else:\n",
    "        df2[agrupamento] = df2['DATA']\n",
    "        \n",
    "    \n",
    "    df2 = df2.groupby([agrupamento]).count().reset_index().rename(columns={'ID': 'Casos'})\n",
    "    return df2"
   ]
  },
  {
   "cell_type": "code",
   "execution_count": 3,
   "metadata": {},
   "outputs": [],
   "source": [
    "df = pd.read_csv('../assets/Dados/SINAN-ZIKA.csv')"
   ]
  },
  {
   "cell_type": "code",
   "execution_count": 4,
   "metadata": {},
   "outputs": [],
   "source": [
    "df = preprocess(df, 'Mensal')"
   ]
  },
  {
   "cell_type": "code",
   "execution_count": 5,
   "metadata": {},
   "outputs": [
    {
     "data": {
      "text/html": [
       "<div>\n",
       "<style scoped>\n",
       "    .dataframe tbody tr th:only-of-type {\n",
       "        vertical-align: middle;\n",
       "    }\n",
       "\n",
       "    .dataframe tbody tr th {\n",
       "        vertical-align: top;\n",
       "    }\n",
       "\n",
       "    .dataframe thead th {\n",
       "        text-align: right;\n",
       "    }\n",
       "</style>\n",
       "<table border=\"1\" class=\"dataframe\">\n",
       "  <thead>\n",
       "    <tr style=\"text-align: right;\">\n",
       "      <th></th>\n",
       "      <th>Mensal</th>\n",
       "      <th>Casos</th>\n",
       "      <th>DATA</th>\n",
       "      <th>ID_AGRAVO</th>\n",
       "      <th>SEXO</th>\n",
       "      <th>ID_MUNICIP</th>\n",
       "    </tr>\n",
       "  </thead>\n",
       "  <tbody>\n",
       "    <tr>\n",
       "      <th>0</th>\n",
       "      <td>2016-01</td>\n",
       "      <td>37260</td>\n",
       "      <td>37260</td>\n",
       "      <td>37260</td>\n",
       "      <td>37260</td>\n",
       "      <td>37260</td>\n",
       "    </tr>\n",
       "    <tr>\n",
       "      <th>1</th>\n",
       "      <td>2016-02</td>\n",
       "      <td>71565</td>\n",
       "      <td>71565</td>\n",
       "      <td>71565</td>\n",
       "      <td>71565</td>\n",
       "      <td>71565</td>\n",
       "    </tr>\n",
       "    <tr>\n",
       "      <th>2</th>\n",
       "      <td>2016-03</td>\n",
       "      <td>77624</td>\n",
       "      <td>77624</td>\n",
       "      <td>77624</td>\n",
       "      <td>77624</td>\n",
       "      <td>77624</td>\n",
       "    </tr>\n",
       "  </tbody>\n",
       "</table>\n",
       "</div>"
      ],
      "text/plain": [
       "    Mensal  Casos   DATA  ID_AGRAVO   SEXO  ID_MUNICIP\n",
       "0  2016-01  37260  37260      37260  37260       37260\n",
       "1  2016-02  71565  71565      71565  71565       71565\n",
       "2  2016-03  77624  77624      77624  77624       77624"
      ]
     },
     "execution_count": 5,
     "metadata": {},
     "output_type": "execute_result"
    }
   ],
   "source": [
    "df.head(3)"
   ]
  },
  {
   "cell_type": "code",
   "execution_count": 6,
   "metadata": {},
   "outputs": [],
   "source": [
    "df = df[['Casos','Mensal']]\n",
    "df.index.freq = df['Mensal']\n",
    "del df['Mensal']\n",
    "arma_mod20 = ARIMA(df, order=(2, 0, 2)).fit()"
   ]
  },
  {
   "cell_type": "code",
   "execution_count": 7,
   "metadata": {},
   "outputs": [],
   "source": [
    "resid = arma_mod20.resid"
   ]
  },
  {
   "cell_type": "code",
   "execution_count": 8,
   "metadata": {},
   "outputs": [
    {
     "data": {
      "text/plain": [
       "array([ 3.20316469e+04,  4.41267323e+04,  1.24350697e+04, -1.53330072e+02,\n",
       "        2.97826588e+04,  6.98477480e+03, -1.05824486e+04,  3.42846686e+03,\n",
       "        4.66282530e+03, -5.29653661e+03, -2.69472687e+03,  3.45404282e+03,\n",
       "        3.04122536e+02, -5.31764549e+03,  2.57186283e+03,  1.66488187e+03,\n",
       "       -2.63163378e+03, -2.54135462e+03,  2.89461362e+03, -3.64187319e+02,\n",
       "       -5.00082714e+03,  7.54548151e+02,  1.47304305e+03, -4.10654837e+03,\n",
       "       -1.06674194e+03,  1.45514901e+03, -1.27791062e+03, -2.42288951e+03,\n",
       "       -7.58530374e+01,  2.81494191e+02, -1.39415327e+03, -1.99239195e+03,\n",
       "       -2.72486014e+02, -1.03964228e+01, -2.44022892e+03, -1.08104375e+03,\n",
       "        9.14454472e+02, -1.16670178e+03, -2.44935874e+03,  2.21323618e+03,\n",
       "        1.87768992e+02, -4.63844891e+03,  2.17422101e+03,  1.61248350e+03,\n",
       "       -4.46755536e+03, -1.34352473e+03,  2.51795507e+03, -2.49913595e+03,\n",
       "       -2.81485808e+03,  1.08302206e+03,  3.71961138e+02, -3.32512795e+03,\n",
       "       -1.52397602e+01,  1.08582995e+03, -2.15984718e+03, -2.29337834e+03,\n",
       "        1.21054409e+03, -7.26520066e+02, -3.40604004e+03, -2.93628401e+02,\n",
       "        7.53644173e+02, -2.70293942e+03, -1.63110379e+03,  1.14255584e+03,\n",
       "       -8.51803881e+02, -2.80436867e+03,  4.58617741e+02,  1.38206137e+02,\n",
       "       -2.29638858e+03, -1.14456689e+03,  5.31733734e+02, -1.85439301e+03,\n",
       "       -1.91901067e+03,  8.29124248e+02, -1.27584435e+02, -2.13134225e+03,\n",
       "        3.48958579e+03, -4.11747395e+03, -9.46198850e+02,  4.75659484e+03,\n",
       "       -3.33057238e+03, -4.34936712e+03,  3.35242761e+03, -1.55962008e+02])"
      ]
     },
     "execution_count": 8,
     "metadata": {},
     "output_type": "execute_result"
    }
   ],
   "source": [
    "arma_mod20.resid.values"
   ]
  },
  {
   "cell_type": "code",
   "execution_count": 9,
   "metadata": {},
   "outputs": [
    {
     "name": "stdout",
     "output_type": "stream",
     "text": [
      "const     5.228353e+03\n",
      "ar.L1     1.386748e+00\n",
      "ar.L2    -9.999997e-01\n",
      "ma.L1     5.274362e-01\n",
      "ma.L2     9.998767e-01\n",
      "sigma2    1.327093e+07\n",
      "dtype: float64\n"
     ]
    }
   ],
   "source": [
    "print(arma_mod20.params)"
   ]
  },
  {
   "cell_type": "code",
   "execution_count": 10,
   "metadata": {},
   "outputs": [
    {
     "data": {
      "image/png": "[encoded data removed]",
      "text/plain": [
       "<Figure size 864x576 with 1 Axes>"
      ]
     },
     "metadata": {
      "needs_background": "light"
     },
     "output_type": "display_data"
    },
    {
     "data": {
      "image/png": "[encoded data removed]",
      "text/plain": [
       "<Figure size 432x288 with 1 Axes>"
      ]
     },
     "metadata": {
      "needs_background": "light"
     },
     "output_type": "display_data"
    }
   ],
   "source": [
    "fig = plt.figure(figsize=(12, 8))\n",
    "ax = fig.add_subplot(111)\n",
    "fig = qqplot(resid, line=\"q\", ax=ax, fit=True)\n",
    "qqplot_data = qqplot(resid, line='q').gca().lines"
   ]
  },
  {
   "cell_type": "code",
   "execution_count": 11,
   "metadata": {},
   "outputs": [
    {
     "data": {
      "application/vnd.plotly.v1+json": {
       "config": {
        "plotlyServerURL": "https://plot.ly"
       },
       "data": [
        {
         "marker": {
          "color": "#19d3f3"
         },
         "mode": "markers",
         "type": "scatter",
         "x": [
          -2.264727419744185,
          -1.9857704031810952,
          -1.808117370057171,
          -1.6740659078405433,
          -1.5647264713617988,
          -1.4714240601722341,
          -1.3894173338410671,
          -1.315817529815394,
          -1.248727645235736,
          -1.1868314327558185,
          -1.1291761577077981,
          -1.0750486645349846,
          -1.023900332980639,
          -0.9752994066934372,
          -0.9288994916472707,
          -0.8844180398275973,
          -0.8416212335729142,
          -0.8003131056487288,
          -0.7603275406361331,
          -0.7215222839823433,
          -0.6837743798792987,
          -0.6469766452839717,
          -0.6110349080044066,
          -0.5758658167443257,
          -0.5413950851290877,
          -0.5075560690656842,
          -0.47428860297245296,
          -0.4415380390635178,
          -0.40925444734403177,
          -0.37739194382855384,
          -0.34590812179133795,
          -0.3147635663168,
          -0.28392143654317287,
          -0.2533471031357997,
          -0.2230078309403668,
          -0.19287249863176734,
          -0.162911348622918,
          -0.13309576162614312,
          -0.10339805113889408,
          -0.07379127380827269,
          -0.04424905215419239,
          -0.014745406527902915,
          0.014745406527902915,
          0.04424905215419253,
          0.07379127380827269,
          0.10339805113889394,
          0.13309576162614326,
          0.162911348622918,
          0.1928724986317672,
          0.2230078309403668,
          0.2533471031357997,
          0.283921436543173,
          0.3147635663168,
          0.34590812179133773,
          0.37739194382855396,
          0.40925444734403177,
          0.4415380390635177,
          0.47428860297245296,
          0.5075560690656842,
          0.541395085129088,
          0.5758658167443257,
          0.6110349080044065,
          0.6469766452839718,
          0.6837743798792987,
          0.7215222839823432,
          0.7603275406361331,
          0.8003131056487288,
          0.8416212335729143,
          0.8844180398275973,
          0.9288994916472707,
          0.9752994066934372,
          1.023900332980639,
          1.0750486645349844,
          1.1291761577077981,
          1.1868314327558185,
          1.2487276452357365,
          1.315817529815394,
          1.3894173338410671,
          1.4714240601722341,
          1.5647264713617985,
          1.6740659078405429,
          1.8081173700571718,
          1.9857704031810945,
          2.264727419744186
         ],
         "y": [
          -10582.448600234371,
          -5317.645485659372,
          -5296.536614955178,
          -5000.82714481021,
          -4638.448908056835,
          -4467.555358381478,
          -4349.367118024319,
          -4117.473947710341,
          -4106.548373119992,
          -3406.04004402974,
          -3330.5723845424436,
          -3325.1279523790718,
          -2814.858078380227,
          -2804.3686733811937,
          -2702.9394231207925,
          -2694.7268658442,
          -2631.633777120651,
          -2541.3546156347884,
          -2499.135952611182,
          -2449.3587406241486,
          -2440.2289203264204,
          -2422.88951113232,
          -2296.3885771434548,
          -2293.378341220923,
          -2159.8471802690983,
          -2131.342251571943,
          -1992.3919522879096,
          -1919.0106738339596,
          -1854.3930064687174,
          -1631.1037856415296,
          -1394.1532746067792,
          -1343.524731425076,
          -1277.9106213316177,
          -1166.7017822242474,
          -1144.5668913933328,
          -1081.0437527187928,
          -1066.7419433919022,
          -946.1988500391735,
          -851.8038811564538,
          -726.5200662760781,
          -364.18731947765264,
          -293.6284006389096,
          -272.4860144044005,
          -155.96200825962478,
          -153.33007224577887,
          -127.58443459007458,
          -75.85303741364805,
          -15.239760227778788,
          -10.396422789470307,
          138.20613654186582,
          187.7689921210076,
          281.494191062166,
          304.1225356627938,
          371.9611375612767,
          458.61774101382844,
          531.7337341668708,
          753.6441731553368,
          754.5481512227316,
          829.1242484956983,
          914.4544720594513,
          1083.0220637655393,
          1085.8299497148805,
          1142.5558382735035,
          1210.544091834602,
          1455.1490066757206,
          1473.0430483528962,
          1612.4835032019191,
          1664.8818703185766,
          2174.2210141350297,
          2213.236184334107,
          2517.9550747387366,
          2571.8628337742493,
          2894.613615102242,
          3352.427612320347,
          3428.4668588139903,
          3454.0428193055795,
          3489.5857927924462,
          4662.8252960406035,
          4756.594835129149,
          6984.7747969522625,
          12435.069691617064,
          29782.658801408812,
          32031.646924846216,
          44126.732295750066
         ]
        },
        {
         "line": {
          "color": "#636efa"
         },
         "mode": "lines",
         "type": "scatter",
         "x": [
          -2.264727419744185,
          -1.9857704031810952,
          -1.808117370057171,
          -1.6740659078405433,
          -1.5647264713617988,
          -1.4714240601722341,
          -1.3894173338410671,
          -1.315817529815394,
          -1.248727645235736,
          -1.1868314327558185,
          -1.1291761577077981,
          -1.0750486645349846,
          -1.023900332980639,
          -0.9752994066934372,
          -0.9288994916472707,
          -0.8844180398275973,
          -0.8416212335729142,
          -0.8003131056487288,
          -0.7603275406361331,
          -0.7215222839823433,
          -0.6837743798792987,
          -0.6469766452839717,
          -0.6110349080044066,
          -0.5758658167443257,
          -0.5413950851290877,
          -0.5075560690656842,
          -0.47428860297245296,
          -0.4415380390635178,
          -0.40925444734403177,
          -0.37739194382855384,
          -0.34590812179133795,
          -0.3147635663168,
          -0.28392143654317287,
          -0.2533471031357997,
          -0.2230078309403668,
          -0.19287249863176734,
          -0.162911348622918,
          -0.13309576162614312,
          -0.10339805113889408,
          -0.07379127380827269,
          -0.04424905215419239,
          -0.014745406527902915,
          0.014745406527902915,
          0.04424905215419253,
          0.07379127380827269,
          0.10339805113889394,
          0.13309576162614326,
          0.162911348622918,
          0.1928724986317672,
          0.2230078309403668,
          0.2533471031357997,
          0.283921436543173,
          0.3147635663168,
          0.34590812179133773,
          0.37739194382855396,
          0.40925444734403177,
          0.4415380390635177,
          0.47428860297245296,
          0.5075560690656842,
          0.541395085129088,
          0.5758658167443257,
          0.6110349080044065,
          0.6469766452839718,
          0.6837743798792987,
          0.7215222839823432,
          0.7603275406361331,
          0.8003131056487288,
          0.8416212335729143,
          0.8844180398275973,
          0.9288994916472707,
          0.9752994066934372,
          1.023900332980639,
          1.0750486645349844,
          1.1291761577077981,
          1.1868314327558185,
          1.2487276452357365,
          1.315817529815394,
          1.3894173338410671,
          1.4714240601722341,
          1.5647264713617985,
          1.6740659078405429,
          1.8081173700571718,
          1.9857704031810945,
          2.264727419744186
         ],
         "y": [
          -6655.478623465209,
          -5913.764843043608,
          -5441.406397197136,
          -5084.979381892965,
          -4794.258726148227,
          -4546.178627721265,
          -4328.132422049528,
          -4132.439230479189,
          -3954.0551463191377,
          -3789.480423238547,
          -3636.1818522114118,
          -3492.2632367896267,
          -3356.265860466773,
          -3227.041734066929,
          -3103.6698367612025,
          -2985.398906729408,
          -2871.6072504082176,
          -2761.773814052057,
          -2655.4569163694396,
          -2552.2783192954944,
          -2451.911097849644,
          -2354.0702649718023,
          -2258.505427919148,
          -2164.9949654332277,
          -2073.341358812245,
          -1983.3674092792064,
          -1894.913143654103,
          -1807.8332599246262,
          -1721.9950001279526,
          -1637.2763641626987,
          -1553.5645975505727,
          -1470.754900683366,
          -1388.7493180581414,
          -1307.455774361511,
          -1226.78723068204,
          -1146.660939089667,
          -1066.9977776727667,
          -987.7216511234798,
          -908.7589442994986,
          -830.0380180057186,
          -751.4887376360487,
          -673.0420263709631,
          -594.6294353961042,
          -516.1827241310183,
          -437.6334437613487,
          -358.91251746756905,
          -279.94981064358717,
          -200.67368409430054,
          -121.01052267740067,
          -40.88423108502741,
          39.78431259444369,
          121.07785629107434,
          203.08343891629875,
          285.8931357835048,
          369.6049023956316,
          454.3235383608853,
          540.1617981575585,
          627.2416818870356,
          715.6959475121391,
          805.669897045178,
          897.3235036661606,
          990.8339661520804,
          1086.398803204735,
          1184.239636082577,
          1284.6068575284266,
          1387.7854546023723,
          1494.1023522849894,
          1603.9357886411506,
          1717.7274449623408,
          1835.9983749941355,
          1959.3702722998617,
          2088.5943986997054,
          2224.591775022559,
          2368.510390444345,
          2521.80896147148,
          2686.383684552072,
          2864.7677687121222,
          3060.460960282461,
          3278.507165954198,
          3526.587264381158,
          3817.307920125895,
          4173.73493543007,
          4646.093381276539,
          5387.807161698144
         ]
        }
       ],
       "layout": {
        "height": 700,
        "showlegend": false,
        "template": {
         "data": {
          "bar": [
           {
            "error_x": {
             "color": "#2a3f5f"
            },
            "error_y": {
             "color": "#2a3f5f"
            },
            "marker": {
             "line": {
              "color": "#E5ECF6",
              "width": 0.5
             },
             "pattern": {
              "fillmode": "overlay",
              "size": 10,
              "solidity": 0.2
             }
            },
            "type": "bar"
           }
          ],
          "barpolar": [
           {
            "marker": {
             "line": {
              "color": "#E5ECF6",
              "width": 0.5
             },
             "pattern": {
              "fillmode": "overlay",
              "size": 10,
              "solidity": 0.2
             }
            },
            "type": "barpolar"
           }
          ],
          "carpet": [
           {
            "aaxis": {
             "endlinecolor": "#2a3f5f",
             "gridcolor": "white",
             "linecolor": "white",
             "minorgridcolor": "white",
             "startlinecolor": "#2a3f5f"
            },
            "baxis": {
             "endlinecolor": "#2a3f5f",
             "gridcolor": "white",
             "linecolor": "white",
             "minorgridcolor": "white",
             "startlinecolor": "#2a3f5f"
            },
            "type": "carpet"
           }
          ],
          "choropleth": [
           {
            "colorbar": {
             "outlinewidth": 0,
             "ticks": ""
            },
            "type": "choropleth"
           }
          ],
          "contour": [
           {
            "colorbar": {
             "outlinewidth": 0,
             "ticks": ""
            },
            "colorscale": [
             [
              0,
              "#0d0887"
             ],
             [
              0.1111111111111111,
              "#46039f"
             ],
             [
              0.2222222222222222,
              "#7201a8"
             ],
             [
              0.3333333333333333,
              "#9c179e"
             ],
             [
              0.4444444444444444,
              "#bd3786"
             ],
             [
              0.5555555555555556,
              "#d8576b"
             ],
             [
              0.6666666666666666,
              "#ed7953"
             ],
             [
              0.7777777777777778,
              "#fb9f3a"
             ],
             [
              0.8888888888888888,
              "#fdca26"
             ],
             [
              1,
              "#f0f921"
             ]
            ],
            "type": "contour"
           }
          ],
          "contourcarpet": [
           {
            "colorbar": {
             "outlinewidth": 0,
             "ticks": ""
            },
            "type": "contourcarpet"
           }
          ],
          "heatmap": [
           {
            "colorbar": {
             "outlinewidth": 0,
             "ticks": ""
            },
            "colorscale": [
             [
              0,
              "#0d0887"
             ],
             [
              0.1111111111111111,
              "#46039f"
             ],
             [
              0.2222222222222222,
              "#7201a8"
             ],
             [
              0.3333333333333333,
              "#9c179e"
             ],
             [
              0.4444444444444444,
              "#bd3786"
             ],
             [
              0.5555555555555556,
              "#d8576b"
             ],
             [
              0.6666666666666666,
              "#ed7953"
             ],
             [
              0.7777777777777778,
              "#fb9f3a"
             ],
             [
              0.8888888888888888,
              "#fdca26"
             ],
             [
              1,
              "#f0f921"
             ]
            ],
            "type": "heatmap"
           }
          ],
          "heatmapgl": [
           {
            "colorbar": {
             "outlinewidth": 0,
             "ticks": ""
            },
            "colorscale": [
             [
              0,
              "#0d0887"
             ],
             [
              0.1111111111111111,
              "#46039f"
             ],
             [
              0.2222222222222222,
              "#7201a8"
             ],
             [
              0.3333333333333333,
              "#9c179e"
             ],
             [
              0.4444444444444444,
              "#bd3786"
             ],
             [
              0.5555555555555556,
              "#d8576b"
             ],
             [
              0.6666666666666666,
              "#ed7953"
             ],
             [
              0.7777777777777778,
              "#fb9f3a"
             ],
             [
              0.8888888888888888,
              "#fdca26"
             ],
             [
              1,
              "#f0f921"
             ]
            ],
            "type": "heatmapgl"
           }
          ],
          "histogram": [
           {
            "marker": {
             "pattern": {
              "fillmode": "overlay",
              "size": 10,
              "solidity": 0.2
             }
            },
            "type": "histogram"
           }
          ],
          "histogram2d": [
           {
            "colorbar": {
             "outlinewidth": 0,
             "ticks": ""
            },
            "colorscale": [
             [
              0,
              "#0d0887"
             ],
             [
              0.1111111111111111,
              "#46039f"
             ],
             [
              0.2222222222222222,
              "#7201a8"
             ],
             [
              0.3333333333333333,
              "#9c179e"
             ],
             [
              0.4444444444444444,
              "#bd3786"
             ],
             [
              0.5555555555555556,
              "#d8576b"
             ],
             [
              0.6666666666666666,
              "#ed7953"
             ],
             [
              0.7777777777777778,
              "#fb9f3a"
             ],
             [
              0.8888888888888888,
              "#fdca26"
             ],
             [
              1,
              "#f0f921"
             ]
            ],
            "type": "histogram2d"
           }
          ],
          "histogram2dcontour": [
           {
            "colorbar": {
             "outlinewidth": 0,
             "ticks": ""
            },
            "colorscale": [
             [
              0,
              "#0d0887"
             ],
             [
              0.1111111111111111,
              "#46039f"
             ],
             [
              0.2222222222222222,
              "#7201a8"
             ],
             [
              0.3333333333333333,
              "#9c179e"
             ],
             [
              0.4444444444444444,
              "#bd3786"
             ],
             [
              0.5555555555555556,
              "#d8576b"
             ],
             [
              0.6666666666666666,
              "#ed7953"
             ],
             [
              0.7777777777777778,
              "#fb9f3a"
             ],
             [
              0.8888888888888888,
              "#fdca26"
             ],
             [
              1,
              "#f0f921"
             ]
            ],
            "type": "histogram2dcontour"
           }
          ],
          "mesh3d": [
           {
            "colorbar": {
             "outlinewidth": 0,
             "ticks": ""
            },
            "type": "mesh3d"
           }
          ],
          "parcoords": [
           {
            "line": {
             "colorbar": {
              "outlinewidth": 0,
              "ticks": ""
             }
            },
            "type": "parcoords"
           }
          ],
          "pie": [
           {
            "automargin": true,
            "type": "pie"
           }
          ],
          "scatter": [
           {
            "fillpattern": {
             "fillmode": "overlay",
             "size": 10,
             "solidity": 0.2
            },
            "type": "scatter"
           }
          ],
          "scatter3d": [
           {
            "line": {
             "colorbar": {
              "outlinewidth": 0,
              "ticks": ""
             }
            },
            "marker": {
             "colorbar": {
              "outlinewidth": 0,
              "ticks": ""
             }
            },
            "type": "scatter3d"
           }
          ],
          "scattercarpet": [
           {
            "marker": {
             "colorbar": {
              "outlinewidth": 0,
              "ticks": ""
             }
            },
            "type": "scattercarpet"
           }
          ],
          "scattergeo": [
           {
            "marker": {
             "colorbar": {
              "outlinewidth": 0,
              "ticks": ""
             }
            },
            "type": "scattergeo"
           }
          ],
          "scattergl": [
           {
            "marker": {
             "colorbar": {
              "outlinewidth": 0,
              "ticks": ""
             }
            },
            "type": "scattergl"
           }
          ],
          "scattermapbox": [
           {
            "marker": {
             "colorbar": {
              "outlinewidth": 0,
              "ticks": ""
             }
            },
            "type": "scattermapbox"
           }
          ],
          "scatterpolar": [
           {
            "marker": {
             "colorbar": {
              "outlinewidth": 0,
              "ticks": ""
             }
            },
            "type": "scatterpolar"
           }
          ],
          "scatterpolargl": [
           {
            "marker": {
             "colorbar": {
              "outlinewidth": 0,
              "ticks": ""
             }
            },
            "type": "scatterpolargl"
           }
          ],
          "scatterternary": [
           {
            "marker": {
             "colorbar": {
              "outlinewidth": 0,
              "ticks": ""
             }
            },
            "type": "scatterternary"
           }
          ],
          "surface": [
           {
            "colorbar": {
             "outlinewidth": 0,
             "ticks": ""
            },
            "colorscale": [
             [
              0,
              "#0d0887"
             ],
             [
              0.1111111111111111,
              "#46039f"
             ],
             [
              0.2222222222222222,
              "#7201a8"
             ],
             [
              0.3333333333333333,
              "#9c179e"
             ],
             [
              0.4444444444444444,
              "#bd3786"
             ],
             [
              0.5555555555555556,
              "#d8576b"
             ],
             [
              0.6666666666666666,
              "#ed7953"
             ],
             [
              0.7777777777777778,
              "#fb9f3a"
             ],
             [
              0.8888888888888888,
              "#fdca26"
             ],
             [
              1,
              "#f0f921"
             ]
            ],
            "type": "surface"
           }
          ],
          "table": [
           {
            "cells": {
             "fill": {
              "color": "#EBF0F8"
             },
             "line": {
              "color": "white"
             }
            },
            "header": {
             "fill": {
              "color": "#C8D4E3"
             },
             "line": {
              "color": "white"
             }
            },
            "type": "table"
           }
          ]
         },
         "layout": {
          "annotationdefaults": {
           "arrowcolor": "#2a3f5f",
           "arrowhead": 0,
           "arrowwidth": 1
          },
          "autotypenumbers": "strict",
          "coloraxis": {
           "colorbar": {
            "outlinewidth": 0,
            "ticks": ""
           }
          },
          "colorscale": {
           "diverging": [
            [
             0,
             "#8e0152"
            ],
            [
             0.1,
             "#c51b7d"
            ],
            [
             0.2,
             "#de77ae"
            ],
            [
             0.3,
             "#f1b6da"
            ],
            [
             0.4,
             "#fde0ef"
            ],
            [
             0.5,
             "#f7f7f7"
            ],
            [
             0.6,
             "#e6f5d0"
            ],
            [
             0.7,
             "#b8e186"
            ],
            [
             0.8,
             "#7fbc41"
            ],
            [
             0.9,
             "#4d9221"
            ],
            [
             1,
             "#276419"
            ]
           ],
           "sequential": [
            [
             0,
             "#0d0887"
            ],
            [
             0.1111111111111111,
             "#46039f"
            ],
            [
             0.2222222222222222,
             "#7201a8"
            ],
            [
             0.3333333333333333,
             "#9c179e"
            ],
            [
             0.4444444444444444,
             "#bd3786"
            ],
            [
             0.5555555555555556,
             "#d8576b"
            ],
            [
             0.6666666666666666,
             "#ed7953"
            ],
            [
             0.7777777777777778,
             "#fb9f3a"
            ],
            [
             0.8888888888888888,
             "#fdca26"
            ],
            [
             1,
             "#f0f921"
            ]
           ],
           "sequentialminus": [
            [
             0,
             "#0d0887"
            ],
            [
             0.1111111111111111,
             "#46039f"
            ],
            [
             0.2222222222222222,
             "#7201a8"
            ],
            [
             0.3333333333333333,
             "#9c179e"
            ],
            [
             0.4444444444444444,
             "#bd3786"
            ],
            [
             0.5555555555555556,
             "#d8576b"
            ],
            [
             0.6666666666666666,
             "#ed7953"
            ],
            [
             0.7777777777777778,
             "#fb9f3a"
            ],
            [
             0.8888888888888888,
             "#fdca26"
            ],
            [
             1,
             "#f0f921"
            ]
           ]
          },
          "colorway": [
           "#636efa",
           "#EF553B",
           "#00cc96",
           "#ab63fa",
           "#FFA15A",
           "#19d3f3",
           "#FF6692",
           "#B6E880",
           "#FF97FF",
           "#FECB52"
          ],
          "font": {
           "color": "#2a3f5f"
          },
          "geo": {
           "bgcolor": "white",
           "lakecolor": "white",
           "landcolor": "#E5ECF6",
           "showlakes": true,
           "showland": true,
           "subunitcolor": "white"
          },
          "hoverlabel": {
           "align": "left"
          },
          "hovermode": "closest",
          "mapbox": {
           "style": "light"
          },
          "paper_bgcolor": "white",
          "plot_bgcolor": "#E5ECF6",
          "polar": {
           "angularaxis": {
            "gridcolor": "white",
            "linecolor": "white",
            "ticks": ""
           },
           "bgcolor": "#E5ECF6",
           "radialaxis": {
            "gridcolor": "white",
            "linecolor": "white",
            "ticks": ""
           }
          },
          "scene": {
           "xaxis": {
            "backgroundcolor": "#E5ECF6",
            "gridcolor": "white",
            "gridwidth": 2,
            "linecolor": "white",
            "showbackground": true,
            "ticks": "",
            "zerolinecolor": "white"
           },
           "yaxis": {
            "backgroundcolor": "#E5ECF6",
            "gridcolor": "white",
            "gridwidth": 2,
            "linecolor": "white",
            "showbackground": true,
            "ticks": "",
            "zerolinecolor": "white"
           },
           "zaxis": {
            "backgroundcolor": "#E5ECF6",
            "gridcolor": "white",
            "gridwidth": 2,
            "linecolor": "white",
            "showbackground": true,
            "ticks": "",
            "zerolinecolor": "white"
           }
          },
          "shapedefaults": {
           "line": {
            "color": "#2a3f5f"
           }
          },
          "ternary": {
           "aaxis": {
            "gridcolor": "white",
            "linecolor": "white",
            "ticks": ""
           },
           "baxis": {
            "gridcolor": "white",
            "linecolor": "white",
            "ticks": ""
           },
           "bgcolor": "#E5ECF6",
           "caxis": {
            "gridcolor": "white",
            "linecolor": "white",
            "ticks": ""
           }
          },
          "title": {
           "x": 0.05
          },
          "xaxis": {
           "automargin": true,
           "gridcolor": "white",
           "linecolor": "white",
           "ticks": "",
           "title": {
            "standoff": 15
           },
           "zerolinecolor": "white",
           "zerolinewidth": 2
          },
          "yaxis": {
           "automargin": true,
           "gridcolor": "white",
           "linecolor": "white",
           "ticks": "",
           "title": {
            "standoff": 15
           },
           "zerolinecolor": "white",
           "zerolinewidth": 2
          }
         }
        },
        "title": {
         "text": "Gráfico de resíduos"
        },
        "width": 800,
        "xaxis": {
         "title": {
          "text": "Quantis Teóricos"
         },
         "zeroline": false
        },
        "yaxis": {
         "title": {
          "text": "Quantis da amostra"
         }
        }
       }
      }
     },
     "metadata": {},
     "output_type": "display_data"
    }
   ],
   "source": [
    "\n",
    "import plotly.graph_objs as go\n",
    "fig = go.Figure()\n",
    "\n",
    "fig.add_trace({\n",
    "    'type': 'scatter',\n",
    "    'x': qqplot_data[0].get_xdata(),\n",
    "    'y': qqplot_data[0].get_ydata(),\n",
    "    'mode': 'markers',\n",
    "    'marker': {\n",
    "        'color': '#19d3f3'\n",
    "    }\n",
    "})\n",
    "\n",
    "fig.add_trace({\n",
    "    'type': 'scatter',\n",
    "    'x': qqplot_data[1].get_xdata(),\n",
    "    'y': qqplot_data[1].get_ydata(),\n",
    "    'mode': 'lines',\n",
    "    'line': {\n",
    "        'color': '#636efa'\n",
    "    }\n",
    "\n",
    "})\n",
    "\n",
    "\n",
    "fig['layout'].update({\n",
    "    'title': 'Gráfico de resíduos',\n",
    "    'xaxis': {\n",
    "        'title': 'Quantis Teóricos',\n",
    "        'zeroline': False\n",
    "    },\n",
    "    'yaxis': {\n",
    "        'title': 'Quantis da amostra'\n",
    "    },\n",
    "    'showlegend': False,\n",
    "    'width': 800,\n",
    "    'height': 700,\n",
    "})\n",
    "\n",
    "fig.show()"
   ]
  }
 ],
 "metadata": {
  "kernelspec": {
   "display_name": "Python 3",
   "language": "python",
   "name": "python3"
  },
  "language_info": {
   "codemirror_mode": {
    "name": "ipython",
    "version": 3
   },
   "file_extension": ".py",
   "mimetype": "text/x-python",
   "name": "python",
   "nbconvert_exporter": "python",
   "pygments_lexer": "ipython3",
   "version": "3.10.11"
  }
 },
 "nbformat": 4,
 "nbformat_minor": 2
}
